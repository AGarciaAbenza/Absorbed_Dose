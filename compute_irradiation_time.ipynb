{
 "cells": [
  {
   "cell_type": "code",
   "execution_count": 1,
   "metadata": {},
   "outputs": [],
   "source": [
    "%matplotlib inline\n",
    "\n",
    "from absorbed_dose_lib import *"
   ]
  },
  {
   "cell_type": "code",
   "execution_count": 2,
   "metadata": {},
   "outputs": [],
   "source": [
    "# Defined materials:\n",
    "paraffin = Material(name=\"Paraffin_Wax\", density=0.9, stopping_power=\"file\", file=\"./Data/paraffin_proton_stopping_data.csv\")\n",
    "water = Material(name=\"Water\", density=0.997, stopping_power=\"file\", file=\"./Data/water_proton_stopping_data.csv\")"
   ]
  },
  {
   "cell_type": "code",
   "execution_count": 3,
   "metadata": {},
   "outputs": [],
   "source": [
    "#Irradiation Dose\n",
    "irradiation_dose = 5 #Gy\n",
    "irradiated_elements_names = [\"Cell Layer\"]\n",
    "\n",
    "#Beam Configuration:\n",
    "beam_energy = 1.5 #MeV\n",
    "beam_current = 1.0e-3 #nA\n",
    "beam_diameter = 6.0 #mm\n",
    "\n",
    "# Elements in the experiment:\n",
    "experiment_name = \"Paraffin and Cells\"\n",
    "names = []\n",
    "materials = []\n",
    "lengths = []\n",
    "colors = []\n",
    "\n",
    "##First element\n",
    "names.append(\"Paraffin Layer\")\n",
    "#Material\n",
    "materials.append(paraffin)\n",
    "#Length\n",
    "lengths.append(20.0*micrometer)\n",
    "#Plot color\n",
    "colors.append('y')\n",
    "\n",
    "##Second element\n",
    "names.append(\"Cell Layer\")\n",
    "#Material\n",
    "materials.append(paraffin)\n",
    "#Length\n",
    "lengths.append(10.0*micrometer)\n",
    "#Plot color\n",
    "colors.append('m')\n",
    "\n",
    "##Add as many elements as needed\n",
    "\n",
    "#Other options\n",
    "plot_let_data = False\n",
    "explore_current_interval = False\n",
    "explore_energy_interval = False\n",
    "save_results = False\n",
    "\n",
    "#Other input\n",
    "integration_points = 10000\n",
    "outputfile = \"./results.txt\"\n",
    "current_interval = np.logspace(-3, 1, 20)\n",
    "energy_interval = np.linspace(1.0, 10.0, 20)"
   ]
  },
  {
   "cell_type": "code",
   "execution_count": 4,
   "metadata": {},
   "outputs": [
    {
     "name": "stdout",
     "output_type": "stream",
     "text": [
      "Experiment Configuration:\n",
      "Irradiation Dose: 5 Gy\n",
      "Beam Energy: 1.5 MeV\n",
      "Beam Current: 1.0 pA\n",
      "Beam Diameter: 6.0 mm\n",
      "Paraffin Layer 20.0 micrometers\n",
      "Cell Layer 10.0 micrometers\n",
      "Total Length:  30.0 micrometers\n",
      "dx =  3e-07\n",
      "Paraffin Layer 6666 points.\n",
      "Cell Layer 3333 points.\n",
      "\n",
      "---------------------------------------\n",
      "Paraffin Layer recibed a dose of 0.0015707021169687778 Gy per second\n",
      "Cell Layer recibed a dose of 0.000993580632605618 Gy per second\n",
      "\n",
      "Irradiation time required for a  5 Gy dose absorbed on Cell Layer :\n",
      "5032.30420956147 s\n",
      "1 h 23 min 52 s 304 ms\n",
      "---------------------------------------\n"
     ]
    },
    {
     "data": {
      "image/png": "[encoded data removed]",
      "text/plain": [
       "<Figure size 432x288 with 1 Axes>"
      ]
     },
     "metadata": {
      "needs_background": "light"
     },
     "output_type": "display_data"
    }
   ],
   "source": [
    "# Plot LET data\n",
    "if plot_let_data:\n",
    "    plt.loglog(water.energies, water.stopping_power(water.energies), label=\"Water LET\")\n",
    "    plt.loglog(paraffin.energies, paraffin.stopping_power(paraffin.energies), \"r:\", label=\"Paraffin LET\")\n",
    "    plt.legend()\n",
    "    plt.show()\n",
    "\n",
    "    my_energies = np.logspace(-1.0, 1.0, 100 )\n",
    "    plt.loglog(my_energies, water.stopping_power(my_energies), label=\"Water LET\")\n",
    "    plt.loglog(my_energies, paraffin.stopping_power(my_energies), \"r:\", label=\"Paraffin LET\")\n",
    "    plt.legend()\n",
    "    plt.show()\n",
    "    \n",
    "# My Experiment\n",
    "elements = []\n",
    "for i in range(len(names)):\n",
    "    elements.append(GeometricalElement(name=names[i], length=lengths[i], material=materials[i], color=colors[i]))\n",
    "my_beam = Beam(energy=beam_energy, intensity=beam_current, diameter=beam_diameter)\n",
    "my_experiment = Experiment(name=experiment_name, beam=my_beam, elements=elements,\n",
    "                           irradiation_dose=irradiation_dose, irradiated_elements_names=irradiated_elements_names)\n",
    "my_experiment.compute(integration_points)\n",
    "my_experiment.show_results()"
   ]
  },
  {
   "cell_type": "code",
   "execution_count": null,
   "metadata": {},
   "outputs": [],
   "source": []
  }
 ],
 "metadata": {
  "kernelspec": {
   "display_name": "Python 3",
   "language": "python",
   "name": "python3"
  },
  "language_info": {
   "codemirror_mode": {
    "name": "ipython",
    "version": 3
   },
   "file_extension": ".py",
   "mimetype": "text/x-python",
   "name": "python",
   "nbconvert_exporter": "python",
   "pygments_lexer": "ipython3",
   "version": "3.7.4"
  }
 },
 "nbformat": 4,
 "nbformat_minor": 2
}
